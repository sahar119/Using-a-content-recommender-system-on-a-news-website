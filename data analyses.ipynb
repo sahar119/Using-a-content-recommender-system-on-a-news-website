{
 "cells": [
  {
   "attachments": {},
   "cell_type": "markdown",
   "metadata": {},
   "source": [
    "### Cleaning news dataset"
   ]
  },
  {
   "cell_type": "code",
   "execution_count": null,
   "metadata": {},
   "outputs": [],
   "source": [
    "import pandas as pd\n",
    "import re\n",
    "\n",
    "# Read the CSV file\n",
    "df = pd.read_csv('news_pakestan.csv')\n",
    "\n",
    "# Remove whitespaces from columns\n",
    "df = df.apply(lambda x: x.str.strip() if x.dtype == \"object\" else x)\n",
    "\n",
    "# Remove rows with missing values\n",
    "df = df.dropna()\n",
    "\n",
    "# Remove special characters\n",
    "df['para'] = df['para'].apply(lambda x: re.sub('[^a-zA-Z\\s]', '', x))\n",
    "df['para'] = df['para'].apply(lambda x: re.sub('\\s+', ' ', x))\n",
    "\n",
    "# Save \n",
    "df.to_csv('cleaned_news_dataset.csv', index=False)\n",
    "print(df)"
   ]
  },
  {
   "cell_type": "code",
   "execution_count": 2,
   "metadata": {},
   "outputs": [
    {
     "name": "stdout",
     "output_type": "stream",
     "text": [
      "       Unnamed: 0                                              title  \\\n",
      "0           12527                     Man injured in robbery attempt   \n",
      "1           12528                     Man injured in robbery attempt   \n",
      "2           12529        Cop among two killed in armed attack in DHA   \n",
      "3           12530    Police register FIR of robbery at Mahar’s house   \n",
      "4           12531                 Woman shot dead in robbery attempt   \n",
      "...           ...                                                ...   \n",
      "20054       36906  Suicide attack on checkpost kills three securi...   \n",
      "20055       36907               Blast in Quetta kills two injures 12   \n",
      "20056       36908  Suicide attack on security post kills three in...   \n",
      "20057       36909  Roadside blast kills three injures five in Der...   \n",
      "20058       36910                Suicide bombing kills three in Swat   \n",
      "\n",
      "                                                    text              date  \\\n",
      "0      KARACHI A man was shot and injured by robbers ...       May 11 2019   \n",
      "1      KARACHI Two persons including a policeman were...       May 11 2019   \n",
      "2      KARACHI Karachi Police have filed a first info...      April 7 2019   \n",
      "3      RAWALPINDI A woman was shot dead and her husba...      April 3 2019   \n",
      "4      FAISALABAD At least one person was killed and ...      March 2 2019   \n",
      "...                                                  ...               ...   \n",
      "20054  KABUL Three construction workers were gunned d...  November 14 2008   \n",
      "20055  MOHMAND AGENCY Three security personnel were k...   October 27 2008   \n",
      "20056  QUETTA At least two persons were killed includ...   October 27 2008   \n",
      "20057  ISLAMABAD Three security personnel were killed...   October 26 2008   \n",
      "20058  DERA BUGTI A roadside bomb struck a vehicle ca...   October 19 2008   \n",
      "\n",
      "      crimetype     sourcetype  \n",
      "0       robbery  PakistanToday  \n",
      "1       robbery  PakistanToday  \n",
      "2       robbery  PakistanToday  \n",
      "3       robbery  PakistanToday  \n",
      "4       robbery  PakistanToday  \n",
      "...         ...            ...  \n",
      "20054   vehicle          Samma  \n",
      "20055   vehicle          Samma  \n",
      "20056   vehicle          Samma  \n",
      "20057   vehicle          Samma  \n",
      "20058   vehicle          Samma  \n",
      "\n",
      "[20059 rows x 6 columns]\n"
     ]
    }
   ],
   "source": [
    "import pandas as pd\n",
    "# Read the CSV file\n",
    "df = pd.read_csv('cleaned_news_dataset.csv')\n",
    "\n",
    "# Rename the 'para' column to 'text'\n",
    "df = df.rename(columns={'para': 'text'})\n",
    "# Save \n",
    "df.to_csv('cleaned_news_dataset.csv', index=False)\n",
    "print(df)"
   ]
  },
  {
   "attachments": {},
   "cell_type": "markdown",
   "metadata": {},
   "source": [
    "### Cleaning Comic dataset"
   ]
  },
  {
   "cell_type": "code",
   "execution_count": 1,
   "metadata": {},
   "outputs": [
    {
     "name": "stdout",
     "output_type": "stream",
     "text": [
      "        ID                                               Joke\n",
      "0        1  When the cashier asks me Is that everything I ...\n",
      "1        2  I rather have an enemy who admits they hate me...\n",
      "2        3  I dont always think Im rightbut whenever I thi...\n",
      "3        4  Im drinking coffee because people think youve ...\n",
      "4        5  Everything I ever needed to know about structu...\n",
      "...    ...                                                ...\n",
      "7728  7729  Ive just been to a concert put on by the Bermu...\n",
      "7729  7730  Ive just read a book on how dramatically footb...\n",
      "7730  7731  I never thought Id buy into Feng Shui But oh h...\n",
      "7731  7732  My Russian mate does not care about anyone His...\n",
      "7732  7733  If you have a dog grooming business and its no...\n",
      "\n",
      "[7733 rows x 2 columns]\n"
     ]
    }
   ],
   "source": [
    "import pandas as pd\n",
    "import re\n",
    "\n",
    "# Read the CSV file\n",
    "df = pd.read_csv('thejokecafe.csv')\n",
    "\n",
    "# Remove whitespaces from columns\n",
    "df = df.apply(lambda x: x.str.strip() if x.dtype == \"object\" else x)\n",
    "\n",
    "# Remove rows with missing values\n",
    "df = df.dropna()\n",
    "\n",
    "# Remove special characters\n",
    "df['Joke'] = df['Joke'].apply(lambda x: re.sub('[^a-zA-Z\\s]', '', x))\n",
    "df['Joke'] = df['Joke'].apply(lambda x: re.sub('\\s+', ' ', x))\n",
    "\n",
    "# Save \n",
    "df.to_csv('cleaned_comic_dataset.csv', index=False)\n",
    "print(df)"
   ]
  },
  {
   "cell_type": "code",
   "execution_count": 3,
   "metadata": {},
   "outputs": [
    {
     "name": "stdout",
     "output_type": "stream",
     "text": [
      "        ID                                            content\n",
      "0        1  When the cashier asks me Is that everything I ...\n",
      "1        2  I rather have an enemy who admits they hate me...\n",
      "2        3  I dont always think Im rightbut whenever I thi...\n",
      "3        4  Im drinking coffee because people think youve ...\n",
      "4        5  Everything I ever needed to know about structu...\n",
      "...    ...                                                ...\n",
      "7728  7729  Ive just been to a concert put on by the Bermu...\n",
      "7729  7730  Ive just read a book on how dramatically footb...\n",
      "7730  7731  I never thought Id buy into Feng Shui But oh h...\n",
      "7731  7732  My Russian mate does not care about anyone His...\n",
      "7732  7733  If you have a dog grooming business and its no...\n",
      "\n",
      "[7733 rows x 2 columns]\n"
     ]
    }
   ],
   "source": [
    "import pandas as pd\n",
    "# Read the CSV file\n",
    "df = pd.read_csv('cleaned_comic_dataset.csv')\n",
    "\n",
    "# Rename the 'Joke' column to 'content'\n",
    "df = df.rename(columns={'Joke': 'content'})\n",
    "# Save \n",
    "df.to_csv('cleaned_comic_dataset.csv', index=False)\n",
    "print(df)"
   ]
  },
  {
   "attachments": {},
   "cell_type": "markdown",
   "metadata": {},
   "source": [
    "### Sentiment analysis of the news dataset"
   ]
  },
  {
   "cell_type": "code",
   "execution_count": 2,
   "metadata": {},
   "outputs": [
    {
     "data": {
      "image/png": "[encoded data removed]",
      "text/plain": [
       "<Figure size 432x288 with 1 Axes>"
      ]
     },
     "metadata": {
      "needs_background": "light"
     },
     "output_type": "display_data"
    }
   ],
   "source": [
    "import pandas as pd\n",
    "from nltk.sentiment import SentimentIntensityAnalyzer\n",
    "import matplotlib.pyplot as plt\n",
    "\n",
    "# Read the CSV file\n",
    "df = pd.read_csv('cleaned_news_dataset.csv')\n",
    "\n",
    "# Initialize the Sentiment Intensity Analyzer\n",
    "sia = SentimentIntensityAnalyzer()\n",
    "\n",
    "# Define a function to apply sentiment analysis \n",
    "def analyze_sentiment(text):\n",
    "    if isinstance(text, str):  # Check if the text is a string\n",
    "        return sia.polarity_scores(text)['compound']\n",
    "    else:\n",
    "        return 0  # Return 0 for NaN or non-string values\n",
    "\n",
    "# Categorize the news into negative, positive, and neutral\n",
    "df['sentiment_score'] = df['text'].apply(analyze_sentiment)\n",
    "df['sentiment_category'] = df['sentiment_score'].apply(lambda score: 'Negative' if score < 0 else 'Positive' if score > 0 else 'Neutral')\n",
    "\n",
    "# Save \n",
    "df.to_csv('categorized_news_dataset.csv', index=False)\n",
    "\n",
    "# Count the number of news in each sentiment category\n",
    "sentiment_counts = df['sentiment_category'].value_counts()\n",
    "\n",
    "# Create a bar chart to visualize the sentiment analysis results\n",
    "plt.bar(sentiment_counts.index, sentiment_counts.values)\n",
    "plt.xlabel('Sentiment Category')\n",
    "plt.ylabel('Number of News')\n",
    "plt.title('Semantic Analysis - Sentiment Categories')\n",
    "plt.show()"
   ]
  },
  {
   "attachments": {},
   "cell_type": "markdown",
   "metadata": {},
   "source": [
    "### Selecting the news for showing in the news web app"
   ]
  },
  {
   "cell_type": "code",
   "execution_count": 15,
   "metadata": {},
   "outputs": [
    {
     "name": "stderr",
     "output_type": "stream",
     "text": [
      "C:\\Users\\Sahar\\AppData\\Local\\Temp\\ipykernel_32104\\3058290620.py:21: FutureWarning: The frame.append method is deprecated and will be removed from pandas in a future version. Use pandas.concat instead.\n",
      "  selected_news = selected_news.append(category_news)\n",
      "C:\\Users\\Sahar\\AppData\\Local\\Temp\\ipykernel_32104\\3058290620.py:21: FutureWarning: The frame.append method is deprecated and will be removed from pandas in a future version. Use pandas.concat instead.\n",
      "  selected_news = selected_news.append(category_news)\n",
      "C:\\Users\\Sahar\\AppData\\Local\\Temp\\ipykernel_32104\\3058290620.py:21: FutureWarning: The frame.append method is deprecated and will be removed from pandas in a future version. Use pandas.concat instead.\n",
      "  selected_news = selected_news.append(category_news)\n",
      "C:\\Users\\Sahar\\AppData\\Local\\Temp\\ipykernel_32104\\3058290620.py:21: FutureWarning: The frame.append method is deprecated and will be removed from pandas in a future version. Use pandas.concat instead.\n",
      "  selected_news = selected_news.append(category_news)\n"
     ]
    }
   ],
   "source": [
    "import pandas as pd\n",
    "\n",
    "# Read the CSV file\n",
    "df = pd.read_csv('categorized_news_dataset.csv')\n",
    "\n",
    "df = df.rename(columns={'crimetype': 'keyword'})  ## renaming this column to keyword \n",
    "\n",
    "# Define the categories and the number of news items per category\n",
    "categories = ['rape', 'raped', 'Woman', 'murder']\n",
    "news_per_category = 20\n",
    "\n",
    "# Create an empty df to store the selected news \n",
    "selected_news = pd.DataFrame()\n",
    "\n",
    "# Iterate over each category\n",
    "for category in categories:\n",
    "    # Select the news items for the current category\n",
    "    category_news = df[df['keyword'] == category].head(news_per_category)\n",
    "\n",
    "    # Append the selected news items to the df\n",
    "    selected_news = selected_news.append(category_news)\n",
    "\n",
    "# Reset the index of the selected news df\n",
    "selected_news.reset_index(drop=True, inplace=True)\n",
    "\n",
    "# Save \n",
    "selected_news.to_csv('news_data1.csv', index=False)\n"
   ]
  },
  {
   "attachments": {},
   "cell_type": "markdown",
   "metadata": {},
   "source": [
    "### Selecting only negative news from sentiment"
   ]
  },
  {
   "cell_type": "code",
   "execution_count": 16,
   "metadata": {},
   "outputs": [],
   "source": [
    "import pandas as pd\n",
    "\n",
    "# Load the CSV file\n",
    "df = pd.read_csv('news_data1.csv')\n",
    "\n",
    "# Convert the values in the \"sentiment_category\" column to lowercase\n",
    "df['sentiment_category'] = df['sentiment_category'].str.lower()\n",
    "\n",
    "# Filter for negative sentiment\n",
    "negative_df = df[df['sentiment_category'] == 'negative']\n",
    "\n",
    "# Save the filtered DataFrame to a new CSV file\n",
    "negative_df.to_csv('news_data.csv', index=False)"
   ]
  },
  {
   "attachments": {},
   "cell_type": "markdown",
   "metadata": {},
   "source": [
    "### Defining a keyword column in the comic dataset"
   ]
  },
  {
   "cell_type": "code",
   "execution_count": 14,
   "metadata": {},
   "outputs": [],
   "source": [
    "import pandas as pd\n",
    "\n",
    "# Load the CSV file\n",
    "df = pd.read_csv('cleaned_comic_dataset.csv')\n",
    "\n",
    "# Define the list of keywords to search for\n",
    "keywords = ['rape', 'raped', 'Woman', 'murder']\n",
    "\n",
    "# Create an empty list to store the extracted keywords\n",
    "extracted_keywords = []\n",
    "\n",
    "# Iterate over each row in the DataFrame\n",
    "for index, row in df.iterrows():\n",
    "    content = str(row['content'])  # Convert content to a string\n",
    "    row_keywords = []\n",
    "\n",
    "    # Check if any keyword is present in the content\n",
    "    for keyword in keywords:\n",
    "        if keyword in content:\n",
    "            row_keywords.append(keyword)\n",
    "\n",
    "    # Join the keywords into a string and add to the extracted_keywords list\n",
    "    extracted_keywords.append(', '.join(row_keywords))\n",
    "\n",
    "# Create a new column 'keyword' in the DataFrame and assign the extracted keywords\n",
    "df['keyword'] = extracted_keywords\n",
    "\n",
    "# Save \n",
    "df.to_csv('comic_data1.csv', index=False)\n"
   ]
  },
  {
   "cell_type": "code",
   "execution_count": null,
   "metadata": {},
   "outputs": [],
   "source": [
    "# Load the CSV file\n",
    "df = pd.read_csv('comic_data1.csv')\n",
    "\n",
    "# Drop rows with blank values in the 'keyword' column\n",
    "df.dropna(subset=['keyword'], inplace=True)\n",
    "\n",
    "# Reset the index after removing rows\n",
    "df.reset_index(drop=True, inplace=True)\n",
    "\n",
    "# Save \n",
    "df.to_csv('comic_data.csv', index=False)"
   ]
  }
 ],
 "metadata": {
  "kernelspec": {
   "display_name": "base",
   "language": "python",
   "name": "python3"
  },
  "language_info": {
   "codemirror_mode": {
    "name": "ipython",
    "version": 3
   },
   "file_extension": ".py",
   "mimetype": "text/x-python",
   "name": "python",
   "nbconvert_exporter": "python",
   "pygments_lexer": "ipython3",
   "version": "3.9.12"
  },
  "orig_nbformat": 4
 },
 "nbformat": 4,
 "nbformat_minor": 2
}
